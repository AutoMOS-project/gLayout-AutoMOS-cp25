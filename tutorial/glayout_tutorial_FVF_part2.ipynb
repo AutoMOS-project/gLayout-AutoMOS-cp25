{
 "cells": [
  {
   "cell_type": "markdown",
   "metadata": {
    "id": "o5-DyyuLZW0q"
   },
   "source": [
    "# Tutorial 2: **Notebook** - *FVF*\n",
    "\n",
    "> 🚧 **Under Construction**\n",
    "\n",
    "**By \n",
    "gLayout Team**\n",
    "\n",
    "__Content creators:__ Subham Pal, Saptarshi Ghosh\n",
    "\n",
    "__Content reviewers:__ Mehedi Saligne"
   ]
  },
  {
   "cell_type": "markdown",
   "metadata": {
    "id": "gPX1Jg60CobD"
   },
   "source": [
    "___\n",
    "# Tutorial Objectives\n",
    "\n",
    "This notebook is a tutorial on-\n",
    "\n",
    "- **Importing** and **Placement** of FETs and other macros/Pcells with relative coordinates + Placing (and connecting) Via_stack on the ports of the FETs + encircling them with padrings.\n",
    "- **Routing** between the placed *Vias* with *C_*, *L_*, *Straight_* and *smart* Routes and explaining the differences between these strategies. Particularly explaning the East/West/North/South angles, (For Example, why C has to parallel but L has to be perpendicular sides) and *Placing and connecting PINs for future LVS runs"
   ]
  },
  {
   "cell_type": "markdown",
   "metadata": {
    "id": "MTe7mB0vawUk"
   },
   "source": [
    "## **Target** **Block** : **Flipped Voltage Follwer Cell**\n",
    "\n",
    "The Flipped Voltage Follower (FVF) is a widely used analog building block known for its low output impedance, fast transient response, and ability to deliver large output current while maintaining voltage buffering properties. It is commonly employed in analog circuit design, particularly in output stages, gain boosting, common-mode feedback circuits, and super class-AB OTAs. \n",
    "\n",
    "(a) Conventional Voltage follower (common Drain); (b) Flipped voltage follower (FVF).\n",
    "\n",
    "![](_images/FVF.png)\n",
    "\n",
    "```bibtex\n",
    "Domala, N., Sasikala, G. Low power flipped voltage follower current mirror with improved input output impedances. Sādhanā 46, 142 (2021). https://doi.org/10.1007/s12046-021-01665-6\n",
    "```"
   ]
  },
  {
   "cell_type": "markdown",
   "metadata": {
    "id": "8DhSwHbRged9"
   },
   "source": [
    "## **NetList generation and LVS**\n",
    "let's go through the step by step procedure to generate LVS and DRC clean layout of a FVF cell."
   ]
  },
  {
   "cell_type": "code",
   "execution_count": 1,
   "metadata": {},
   "outputs": [],
   "source": [
    "import os\n",
    "os.environ[\"PATH\"] = os.environ[\"TOOLS\"]+'/bin:'+ os.environ[\"PATH\"]"
   ]
  },
  {
   "cell_type": "code",
   "execution_count": 2,
   "metadata": {},
   "outputs": [],
   "source": [
    "from glayout import MappedPDK, sky130 , gf180\n",
    "#from gdsfactory.cell import cell\n",
    "from gdsfactory import Component\n",
    "from gdsfactory.components import text_freetype, rectangle"
   ]
  },
  {
   "cell_type": "code",
   "execution_count": 3,
   "metadata": {},
   "outputs": [],
   "source": [
    "from glayout import nmos, pmos\n",
    "from glayout import via_stack\n",
    "from glayout import rename_ports_by_orientation\n",
    "from glayout import tapring"
   ]
  },
  {
   "cell_type": "code",
   "execution_count": 4,
   "metadata": {},
   "outputs": [],
   "source": [
    "from glayout.util.comp_utils import evaluate_bbox, prec_center, prec_ref_center, align_comp_to_port\n",
    "from glayout.util.port_utils import add_ports_perimeter,print_ports\n",
    "from glayout.util.snap_to_grid import component_snap_to_grid\n",
    "from glayout.spice.netlist import Netlist"
   ]
  },
  {
   "cell_type": "code",
   "execution_count": 5,
   "metadata": {},
   "outputs": [],
   "source": [
    "from glayout.routing.straight_route import straight_route\n",
    "from glayout.routing.c_route import c_route\n",
    "from glayout.routing.L_route import L_route"
   ]
  },
  {
   "cell_type": "markdown",
   "metadata": {
    "id": "48098fczyWqC"
   },
   "source": [
    "FVF has two fets as shown in the schematic. We call M1 as input fet and M2 as feedback fet. Lets define arguments for the FETs"
   ]
  },
  {
   "cell_type": "markdown",
   "metadata": {},
   "source": [
    "### 2. Basic Usage of the GLayout Framework\n",
    "Each generator is a Python function that takes a `MappedPDK` object as a parameter and generates a DRC clean layout for the given PDK. The generator may also accept a set of optional layout parameters such as the width or length of a MOSFET. All parameters are normal Python function arguments.\n",
    "\n",
    "The generator returns a `GDSFactory.Component` object that can be written to a `.gds` file and viewed using a tool such as Klayout. In this example, the `gdstk` library is used to convert the `.gds` file to an SVG image for viewing.\n",
    "\n",
    "The pre-PEX SPICE netlist for the component can be viewed using `component.info['netlist'].generate_netlist()`.\n",
    "\n",
    "In the following example the FET generator `glayout.primitives.fet` is imported and run with both the [Skywater 130](https://skywater-pdk.readthedocs.io/en/main/) and [GF180](https://gf180mcu-pdk.readthedocs.io/en/latest/) PDKs."
   ]
  },
  {
   "cell_type": "markdown",
   "metadata": {},
   "source": [
    "#### Demonstration of Basic Layout / Netlist Generation in SKY130 & GF180"
   ]
  },
  {
   "cell_type": "code",
   "execution_count": 6,
   "metadata": {},
   "outputs": [
    {
     "data": {
      "application/vnd.jupyter.widget-view+json": {
       "model_id": "f9a261fc017c47a6881f94e67beb2924",
       "version_major": 2,
       "version_minor": 0
      },
      "text/plain": [
       "GridspecLayout(children=(Output(layout=Layout(grid_area='widget001')), Output(layout=Layout(grid_area='widget0…"
      ]
     },
     "metadata": {},
     "output_type": "display_data"
    }
   ],
   "source": [
    "from glayout import nmos,sky130,gf180\n",
    "\n",
    "import gdstk\n",
    "import svgutils.transform as sg\n",
    "import IPython.display\n",
    "from IPython.display import clear_output\n",
    "import ipywidgets as widgets\n",
    "\n",
    "# Used to display the results in a grid (notebook only)\n",
    "left = widgets.Output()\n",
    "leftSPICE = widgets.Output()\n",
    "right = widgets.Output()\n",
    "rightSPICE = widgets.Output()\n",
    "hide = widgets.Output()\n",
    "\n",
    "grid = widgets.GridspecLayout(1, 4)\n",
    "grid[0, 0] = left\n",
    "grid[0, 1] = leftSPICE\n",
    "grid[0, 2] = right\n",
    "grid[0, 3] = rightSPICE\n",
    "display(grid)\n",
    "\n",
    "def display_gds(gds_file, scale = 3):\n",
    "  # Generate an SVG image\n",
    "  top_level_cell = gdstk.read_gds(gds_file).top_level()[0]\n",
    "  top_level_cell.write_svg('out.svg')\n",
    "\n",
    "  # Scale the image for displaying\n",
    "  fig = sg.fromfile('out.svg')\n",
    "  fig.set_size((str(float(fig.width) * scale), str(float(fig.height) * scale)))\n",
    "  fig.save('out.svg')\n",
    "\n",
    "  # Display the image\n",
    "  IPython.display.display(IPython.display.SVG('out.svg'))\n",
    "\n",
    "def display_component(component, scale = 3):\n",
    "  # Save to a GDS file\n",
    "  with hide:\n",
    "    component.write_gds(\"out.gds\")\n",
    "\n",
    "  display_gds('out.gds', scale)\n",
    "\n",
    "with hide:\n",
    "  # Generate the sky130 component\n",
    "  component_sky130 = nmos(pdk = sky130, fingers=5)\n",
    "  # Generate the gf180 component\n",
    "  component_gf180 = nmos(pdk = gf180, fingers=5)\n",
    "\n",
    "# Display the components' GDS and SPICE netlists\n",
    "with left:\n",
    "  print('Skywater 130nm N-MOSFET (fingers = 5)')\n",
    "  display_component(component_sky130, scale=2)\n",
    "with leftSPICE:\n",
    "  print('Skywater 130nm SPICE Netlist')\n",
    "  print(component_sky130.info['netlist'].generate_netlist())\n",
    "\n",
    "with right:\n",
    "  print('GF 180nm N-MOSFET (fingers = 5)')\n",
    "  display_component(component_gf180, scale=2)\n",
    "with rightSPICE:\n",
    "  print('GF 180nm SPICE Netlist')\n",
    "  print(component_gf180.info['netlist'].generate_netlist())"
   ]
  },
  {
   "cell_type": "code",
   "execution_count": 10,
   "metadata": {},
   "outputs": [],
   "source": [
    "import sys\n",
    "import os\n",
    "sys.path.append(os.path.abspath(\"../../FVF\"))\n",
    "\n",
    "from my_FVF import flipped_voltage_follower\n"
   ]
  },
  {
   "cell_type": "code",
   "execution_count": 13,
   "metadata": {},
   "outputs": [
    {
     "name": "stdout",
     "output_type": "stream",
     "text": [
      "Help on function flipped_voltage_follower in module my_FVF:\n",
      "\n",
      "flipped_voltage_follower(pdk: glayout.pdk.mappedpdk.MappedPDK, device_type: str = 'nmos', placement: str = 'horizontal', width: tuple[float, float] = (3, 3), length: tuple[float, float] = (None, None), fingers: tuple[int, int] = (1, 1), multipliers: tuple[int, int] = (1, 1), dummy_1: tuple[bool, bool] = (True, True), dummy_2: tuple[bool, bool] = (True, True), tie_layers1: tuple[str, str] = ('met2', 'met1'), tie_layers2: tuple[str, str] = ('met2', 'met1'), sd_rmult: int = 1, **kwargs) -> gdsfactory.component.Component\n",
      "\n"
     ]
    }
   ],
   "source": [
    "help(flipped_voltage_follower)"
   ]
  },
  {
   "cell_type": "code",
   "execution_count": null,
   "metadata": {},
   "outputs": [],
   "source": [
    "def fvf_netlist(fet_1: Component, fet_2: Component) -> Netlist:\n",
    "\n",
    "     netlist = Netlist(circuit_name='FLIPPED_VOLTAGE_FOLLOWER', nodes=['VIN', 'VBULK', 'VOUT', 'Ib'])\n",
    "     \n",
    "     netlist.connect_netlist(fet_1.info['netlist'], [('D', 'Ib'), ('G', 'VIN'), ('S', 'VOUT'), ('B', 'VBULK')])\n",
    "     netlist.connect_netlist(fet_2.info['netlist'], [('D', 'VOUT'), ('G', 'Ib'), ('S', 'VBULK'), ('B', 'VBULK')])\n",
    "\n",
    "return netlist"
   ]
  },
  {
   "cell_type": "code",
   "execution_count": null,
   "metadata": {},
   "outputs": [],
   "source": [
    "def fvf_netlist(fet_1: Component, fet_2: Component) -> Netlist:\n",
    "\n",
    "    netlist = Netlist(circuit_name='FLIPPED_VOLTAGE_FOLLOWER', nodes=['VIN', 'VBULK', 'VOUT', 'Ib'])\n",
    "    \n",
    "    netlist.connect_netlist(fet_1.info['netlist'], [('D', 'Ib'), ('G', 'VIN'), ('S', 'VOUT'), ('B', 'VBULK')])\n",
    "    netlist.connect_netlist(fet_2.info['netlist'], [('D', 'VOUT'), ('G', 'Ib'), ('S', 'VBULK'), ('B', 'VBULK')])\n",
    "    \n",
    "    return netlist\n",
    "\n",
    "component.info['netlist'] = fvf_netlist(fet_1, fet_2)"
   ]
  },
  {
   "cell_type": "markdown",
   "metadata": {
    "id": "Bbxs3HPMCob0"
   },
   "source": [
    "### Run LVS\n",
    "Design Rule Check ensures that the physical layout of an integrated circuit adheres to the manufacturing constraints defined by the foundry, such as minimum spacing, width, and enclosure rules. `Magic` is the tool we use for DRC here."
   ]
  },
  {
   "cell_type": "code",
   "execution_count": null,
   "metadata": {},
   "outputs": [],
   "source": []
  },
  {
   "cell_type": "markdown",
   "metadata": {},
   "source": [
    "## Extraction and Post-Pex Simulation"
   ]
  },
  {
   "cell_type": "code",
   "execution_count": null,
   "metadata": {},
   "outputs": [],
   "source": []
  }
 ],
 "metadata": {
  "colab": {
   "provenance": []
  },
  "kernelspec": {
   "display_name": "GLdev",
   "language": "python",
   "name": "gldev"
  },
  "language_info": {
   "codemirror_mode": {
    "name": "ipython",
    "version": 3
   },
   "file_extension": ".py",
   "mimetype": "text/x-python",
   "name": "python",
   "nbconvert_exporter": "python",
   "pygments_lexer": "ipython3",
   "version": "3.10.18"
  }
 },
 "nbformat": 4,
 "nbformat_minor": 0
}
