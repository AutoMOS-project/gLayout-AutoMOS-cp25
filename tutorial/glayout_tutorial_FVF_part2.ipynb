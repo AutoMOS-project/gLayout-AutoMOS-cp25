{
 "cells": [
  {
   "cell_type": "markdown",
   "metadata": {
    "id": "o5-DyyuLZW0q"
   },
   "source": [
    "# Tutorial 2: **Notebook** - *FVF*\n",
    "\n",
    "> 🚧 **Under Construction**\n",
    "\n",
    "**By \n",
    "gLayout Team**\n",
    "\n",
    "__Content creators:__ Subham Pal, Saptarshi Ghosh\n",
    "\n",
    "__Content reviewers:__ Mehedi Saligne"
   ]
  },
  {
   "cell_type": "markdown",
   "metadata": {
    "id": "gPX1Jg60CobD"
   },
   "source": [
    "___\n",
    "# Tutorial Objectives\n",
    "\n",
    "This notebook is a tutorial on-\n",
    "\n",
    "- **Importing** and **Placement** of FETs and other macros/Pcells with relative coordinates + Placing (and connecting) Via_stack on the ports of the FETs + encircling them with padrings.\n",
    "- **Routing** between the placed *Vias* with *C_*, *L_*, *Straight_* and *smart* Routes and explaining the differences between these strategies. Particularly explaning the East/West/North/South angles, (For Example, why C has to parallel but L has to be perpendicular sides) and *Placing and connecting PINs for future LVS runs"
   ]
  },
  {
   "cell_type": "markdown",
   "metadata": {
    "id": "MTe7mB0vawUk"
   },
   "source": [
    "## **Target** **Block** : **Flipped Voltage Follwer Cell**\n",
    "\n",
    "The Flipped Voltage Follower (FVF) is a widely used analog building block known for its low output impedance, fast transient response, and ability to deliver large output current while maintaining voltage buffering properties. It is commonly employed in analog circuit design, particularly in output stages, gain boosting, common-mode feedback circuits, and super class-AB OTAs. \n",
    "\n",
    "(a) Conventional Voltage follower (common Drain); (b) Flipped voltage follower (FVF).\n",
    "\n",
    "![](_images/FVF.png)\n",
    "\n",
    "```bibtex\n",
    "Domala, N., Sasikala, G. Low power flipped voltage follower current mirror with improved input output impedances. Sādhanā 46, 142 (2021). https://doi.org/10.1007/s12046-021-01665-6\n",
    "```"
   ]
  },
  {
   "cell_type": "markdown",
   "metadata": {
    "id": "8DhSwHbRged9"
   },
   "source": [
    "## **NetList generation and LVS**\n",
    "let's go through the step by step procedure to generate LVS and DRC clean layout of a FVF cell."
   ]
  },
  {
   "cell_type": "code",
   "execution_count": 1,
   "metadata": {},
   "outputs": [],
   "source": [
    "import os\n",
    "import subprocess\n",
    "\n",
    "# Run a shell, source .bashrc, then printenv\n",
    "cmd = 'bash -c \"source ~/.bashrc && printenv\"'\n",
    "result = subprocess.run(cmd, shell=True, text=True, capture_output=True)\n",
    "env_vars = {}\n",
    "for line in result.stdout.splitlines():\n",
    "    if '=' in line:\n",
    "        key, value = line.split('=', 1)\n",
    "        env_vars[key] = value\n",
    "\n",
    "# Now, update os.environ with these\n",
    "os.environ.update(env_vars)"
   ]
  },
  {
   "cell_type": "code",
   "execution_count": 2,
   "metadata": {},
   "outputs": [],
   "source": [
    "from glayout import MappedPDK, sky130 , gf180\n",
    "#from gdsfactory.cell import cell\n",
    "from gdsfactory import Component\n",
    "from gdsfactory.components import text_freetype, rectangle"
   ]
  },
  {
   "cell_type": "code",
   "execution_count": 3,
   "metadata": {},
   "outputs": [],
   "source": [
    "from glayout import nmos, pmos\n",
    "from glayout import via_stack\n",
    "from glayout import rename_ports_by_orientation\n",
    "from glayout import tapring"
   ]
  },
  {
   "cell_type": "code",
   "execution_count": 4,
   "metadata": {},
   "outputs": [],
   "source": [
    "from glayout.util.comp_utils import evaluate_bbox, prec_center, prec_ref_center, align_comp_to_port\n",
    "from glayout.util.port_utils import add_ports_perimeter,print_ports\n",
    "from glayout.util.snap_to_grid import component_snap_to_grid\n",
    "from glayout.spice.netlist import Netlist"
   ]
  },
  {
   "cell_type": "code",
   "execution_count": 5,
   "metadata": {},
   "outputs": [],
   "source": [
    "from glayout.routing.straight_route import straight_route\n",
    "from glayout.routing.c_route import c_route\n",
    "from glayout.routing.L_route import L_route"
   ]
  },
  {
   "cell_type": "markdown",
   "metadata": {
    "id": "48098fczyWqC"
   },
   "source": [
    "FVF has two fets as shown in the schematic. We call M1 as input fet and M2 as feedback fet. Lets define arguments for the FETs"
   ]
  },
  {
   "cell_type": "markdown",
   "metadata": {},
   "source": [
    "### 2. Basic Usage of the GLayout Framework\n",
    "Each generator is a Python function that takes a `MappedPDK` object as a parameter and generates a DRC clean layout for the given PDK. The generator may also accept a set of optional layout parameters such as the width or length of a MOSFET. All parameters are normal Python function arguments.\n",
    "\n",
    "The generator returns a `GDSFactory.Component` object that can be written to a `.gds` file and viewed using a tool such as Klayout. In this example, the `gdstk` library is used to convert the `.gds` file to an SVG image for viewing.\n",
    "\n",
    "The pre-PEX SPICE netlist for the component can be viewed using `component.info['netlist'].generate_netlist()`.\n",
    "\n",
    "In the following example the FET generator `glayout.primitives.fet` is imported and run with both the [Skywater 130](https://skywater-pdk.readthedocs.io/en/main/) and [GF180](https://gf180mcu-pdk.readthedocs.io/en/latest/) PDKs."
   ]
  },
  {
   "cell_type": "markdown",
   "metadata": {},
   "source": [
    "#### Demonstration of Basic Layout / Netlist Generation in SKY130 & GF180"
   ]
  },
  {
   "cell_type": "code",
   "execution_count": 6,
   "metadata": {},
   "outputs": [
    {
     "data": {
      "application/vnd.jupyter.widget-view+json": {
       "model_id": "a51437926ce04a28850301a51b0c8f25",
       "version_major": 2,
       "version_minor": 0
      },
      "text/plain": [
       "GridspecLayout(children=(Output(layout=Layout(grid_area='widget001')), Output(layout=Layout(grid_area='widget0…"
      ]
     },
     "metadata": {},
     "output_type": "display_data"
    }
   ],
   "source": [
    "from glayout import nmos,sky130,gf180\n",
    "\n",
    "import gdstk\n",
    "import svgutils.transform as sg\n",
    "import IPython.display\n",
    "from IPython.display import clear_output\n",
    "import ipywidgets as widgets\n",
    "\n",
    "# Used to display the results in a grid (notebook only)\n",
    "left = widgets.Output()\n",
    "leftSPICE = widgets.Output()\n",
    "right = widgets.Output()\n",
    "rightSPICE = widgets.Output()\n",
    "hide = widgets.Output()\n",
    "\n",
    "grid = widgets.GridspecLayout(1, 4)\n",
    "grid[0, 0] = left\n",
    "grid[0, 1] = leftSPICE\n",
    "grid[0, 2] = right\n",
    "grid[0, 3] = rightSPICE\n",
    "display(grid)\n",
    "\n",
    "def display_gds(gds_file, scale = 3):\n",
    "  # Generate an SVG image\n",
    "  top_level_cell = gdstk.read_gds(gds_file).top_level()[0]\n",
    "  top_level_cell.write_svg('out.svg')\n",
    "\n",
    "  # Scale the image for displaying\n",
    "  fig = sg.fromfile('out.svg')\n",
    "  fig.set_size((str(float(fig.width) * scale), str(float(fig.height) * scale)))\n",
    "  fig.save('out.svg')\n",
    "\n",
    "  # Display the image\n",
    "  IPython.display.display(IPython.display.SVG('out.svg'))\n",
    "\n",
    "def display_component(component, scale = 3):\n",
    "  # Save to a GDS file\n",
    "  with hide:\n",
    "    component.write_gds(\"out.gds\")\n",
    "\n",
    "  display_gds('out.gds', scale)\n",
    "\n",
    "with hide:\n",
    "  # Generate the sky130 component\n",
    "  component_sky130 = nmos(pdk = sky130, fingers=5)\n",
    "  # Generate the gf180 component\n",
    "  component_gf180 = nmos(pdk = gf180, fingers=5)\n",
    "\n",
    "# Display the components' GDS and SPICE netlists\n",
    "with left:\n",
    "  print('Skywater 130nm N-MOSFET (fingers = 5)')\n",
    "  display_component(component_sky130, scale=2)\n",
    "with leftSPICE:\n",
    "  print('Skywater 130nm SPICE Netlist')\n",
    "  print(component_sky130.info['netlist'].generate_netlist())\n",
    "\n",
    "with right:\n",
    "  print('GF 180nm N-MOSFET (fingers = 5)')\n",
    "  display_component(component_gf180, scale=2)\n",
    "with rightSPICE:\n",
    "  print('GF 180nm SPICE Netlist')\n",
    "  print(component_gf180.info['netlist'].generate_netlist())"
   ]
  },
  {
   "cell_type": "code",
   "execution_count": 7,
   "metadata": {},
   "outputs": [],
   "source": [
    "import sys\n",
    "import os\n",
    "sys.path.append(os.path.abspath(\"../../FVF\"))\n",
    "\n",
    "from my_FVF import flipped_voltage_follower,add_fvf_labels\n"
   ]
  },
  {
   "cell_type": "code",
   "execution_count": 8,
   "metadata": {
    "scrolled": true
   },
   "outputs": [
    {
     "name": "stderr",
     "output_type": "stream",
     "text": [
      "\u001b[32m2025-06-25 23:59:07.189\u001b[0m | \u001b[1mINFO    \u001b[0m | \u001b[36mgdsfactory.component\u001b[0m:\u001b[36m_write_library\u001b[0m:\u001b[36m1851\u001b[0m - \u001b[1mWrote to '/tmp/tmp_x1xxqvl/FVF.gds'\u001b[0m\n"
     ]
    },
    {
     "name": "stdout",
     "output_type": "stream",
     "text": [
      "using default pdk_root: /usr/bin/miniconda3/share/pdk/\n",
      "Defaulting to stale magic_commands.tcl\n",
      "\n",
      "Magic 8.3 revision 528 - Compiled on Wed Jun 18 09:45:25 PM CEST 2025.\n",
      "Starting magic under Tcl interpreter\n",
      "Using the terminal as the console.\n",
      "WARNING: RLIMIT_NOFILE is above 1024 and Tcl_Version<9 this may cause runtime issues [rlim_cur=1048576]\n",
      "Using NULL graphics device.\n",
      "Processing system .magicrc file\n",
      "Sourcing design .magicrc for technology gf180mcuD ...\n",
      "10 Magic internal units = 1 Lambda\n",
      "Input style import: scaleFactor=10, multiplier=2\n",
      "The following types are not handled by extraction and will be treated as non-electrical types:\n",
      "    obsactive mvobsactive filldiff fillpoly m1hole obsm1 fillm1 obsv1 m2hole obsm2 fillm2 obsv2 m3hole obsm3 fillm3 m4hole obsm4 fillm4 m5hole obsm5 fillm5 glass fillblock lvstext obscomment \n",
      "Scaled tech values by 10 / 1 to match internal grid scaling\n",
      "Loading gf180mcuD Device Generator Menu ...\n",
      "Loading \"/tmp/tmp_x1xxqvl/magic_commands.tcl\" from command line.\n",
      "Warning: Calma reading is not undoable!  I hope that's OK.\n",
      "Library written using GDS-II Release 6.0\n",
      "Library name: library\n",
      "Reading \"FVF\".\n",
      "[INFO]: Loading FVF\n",
      "\n",
      "Loading DRC CIF style.\n",
      "[INFO]: DONE with /tmp/tmp_x1xxqvl/FVF.rpt\n",
      "\n",
      "Using technology \"gf180mcuD\", version 1.0.525-0-gf2e289d\n",
      "\n",
      "FVF count: \n",
      "\n",
      "----------------------------------------\n",
      "\n",
      "Metal2 spacing < 0.28um (M2.2a)\n",
      "\n",
      "----------------------------------------\n",
      "\n",
      " -0.250um -2.935um -0.140um -2.905um\n",
      "\n",
      " -0.140um -2.935um 0.000um -2.905um\n",
      "\n",
      " -0.250um -3.045um 0.000um -2.935um\n",
      "\n",
      " -0.820um 1.495um -0.320um 1.525um\n",
      "\n",
      " -0.320um 1.495um -0.040um 1.525um\n",
      "\n",
      " 0.000um -2.935um 0.140um -2.905um\n",
      "\n",
      " 0.140um -2.935um 0.250um -2.905um\n",
      "\n",
      " 0.000um -3.045um 0.250um -2.935um\n",
      "\n",
      " 0.040um 1.495um 0.820um 1.525um\n",
      "\n",
      " 10.120um 1.495um 10.620um 1.525um\n",
      "\n",
      " 10.980um 1.495um 11.760um 1.525um\n",
      "\n",
      " 0.820um 1.495um 1.100um 1.525um\n",
      "\n",
      " 10.620um 1.495um 10.900um 1.525um\n",
      "\n",
      "----------------------------------------\n",
      "\n",
      "Metal1 width < 0.23um (M1.1)\n",
      "\n",
      "----------------------------------------\n",
      "\n",
      " 6.810um 1.845um 10.120um 1.875um\n",
      "\n",
      "----------------------------------------\n",
      "\n",
      "\n",
      "\n"
     ]
    }
   ],
   "source": [
    "comp = flipped_voltage_follower(gf180, device_type='nmos')\n",
    "# comp.pprint_ports()\n",
    "comp = add_fvf_labels(comp, gf180)\n",
    "comp.name = \"FVF\"\n",
    "#comp.write_gds('out_FVF.gds')\n",
    "#comp.show()\n",
    "#print(\"...Running DRC...\")\n",
    "drc_result = gf180.drc_magic(comp, \"FVF\")"
   ]
  },
  {
   "cell_type": "code",
   "execution_count": null,
   "metadata": {},
   "outputs": [],
   "source": [
    "fet_ref = c.insts[\"fet_ref\"]\n",
    "fet_ref = c.insts[\"fet_ref\"]"
   ]
  },
  {
   "cell_type": "code",
   "execution_count": 10,
   "metadata": {},
   "outputs": [
    {
     "ename": "TypeError",
     "evalue": "'list' object is not callable",
     "output_type": "error",
     "traceback": [
      "\u001b[0;31m---------------------------------------------------------------------------\u001b[0m",
      "\u001b[0;31mTypeError\u001b[0m                                 Traceback (most recent call last)",
      "Cell \u001b[0;32mIn[10], line 1\u001b[0m\n\u001b[0;32m----> 1\u001b[0m \u001b[43mcomp\u001b[49m\u001b[38;5;241;43m.\u001b[39;49m\u001b[43mreferences\u001b[49m\u001b[43m(\u001b[49m\u001b[43m)\u001b[49m\n",
      "\u001b[0;31mTypeError\u001b[0m: 'list' object is not callable"
     ]
    }
   ],
   "source": [
    "comp.references()"
   ]
  },
  {
   "cell_type": "code",
   "execution_count": 10,
   "metadata": {},
   "outputs": [
    {
     "ename": "AttributeError",
     "evalue": "'Component' object has no attribute 'insts'",
     "output_type": "error",
     "traceback": [
      "\u001b[0;31m---------------------------------------------------------------------------\u001b[0m",
      "\u001b[0;31mAttributeError\u001b[0m                            Traceback (most recent call last)",
      "Cell \u001b[0;32mIn[10], line 1\u001b[0m\n\u001b[0;32m----> 1\u001b[0m \u001b[38;5;28;01mfor\u001b[39;00m inst \u001b[38;5;129;01min\u001b[39;00m \u001b[43mcomp\u001b[49m\u001b[38;5;241;43m.\u001b[39;49m\u001b[43minsts\u001b[49m\u001b[38;5;241m.\u001b[39mvalues():\n\u001b[1;32m      2\u001b[0m             \u001b[38;5;28mprint\u001b[39m(inst\u001b[38;5;241m.\u001b[39mname)\n",
      "\u001b[0;31mAttributeError\u001b[0m: 'Component' object has no attribute 'insts'"
     ]
    }
   ],
   "source": [
    "for inst in comp.insts.values():\n",
    "            print(inst.name)"
   ]
  },
  {
   "cell_type": "code",
   "execution_count": null,
   "metadata": {},
   "outputs": [],
   "source": [
    "def fvf_netlist(fet_1: Component, fet_2: Component) -> Netlist:\n",
    "\n",
    "    netlist = Netlist(circuit_name='FLIPPED_VOLTAGE_FOLLOWER', nodes=['VIN', 'VBULK', 'VOUT', 'Ib'])\n",
    "    \n",
    "    netlist.connect_netlist(fet_1.info['netlist'], [('D', 'Ib'), ('G', 'VIN'), ('S', 'VOUT'), ('B', 'VBULK')])\n",
    "    netlist.connect_netlist(fet_2.info['netlist'], [('D', 'VOUT'), ('G', 'Ib'), ('S', 'VBULK'), ('B', 'VBULK')])\n",
    "    \n",
    "    return netlist\n",
    "\n",
    "\n",
    "\n",
    "component.info['netlist'] = fvf_netlist(fet_1, fet_2)"
   ]
  },
  {
   "cell_type": "markdown",
   "metadata": {
    "id": "Bbxs3HPMCob0"
   },
   "source": [
    "### Run LVS\n",
    "Design Rule Check ensures that the physical layout of an integrated circuit adheres to the manufacturing constraints defined by the foundry, such as minimum spacing, width, and enclosure rules. `Magic` is the tool we use for DRC here."
   ]
  },
  {
   "cell_type": "code",
   "execution_count": null,
   "metadata": {},
   "outputs": [],
   "source": []
  },
  {
   "cell_type": "markdown",
   "metadata": {},
   "source": [
    "## Extraction and Post-Pex Simulation"
   ]
  },
  {
   "cell_type": "code",
   "execution_count": null,
   "metadata": {},
   "outputs": [],
   "source": []
  }
 ],
 "metadata": {
  "colab": {
   "provenance": []
  },
  "kernelspec": {
   "display_name": "GLdev",
   "language": "python",
   "name": "gldev"
  },
  "language_info": {
   "codemirror_mode": {
    "name": "ipython",
    "version": 3
   },
   "file_extension": ".py",
   "mimetype": "text/x-python",
   "name": "python",
   "nbconvert_exporter": "python",
   "pygments_lexer": "ipython3",
   "version": "3.10.18"
  }
 },
 "nbformat": 4,
 "nbformat_minor": 0
}
