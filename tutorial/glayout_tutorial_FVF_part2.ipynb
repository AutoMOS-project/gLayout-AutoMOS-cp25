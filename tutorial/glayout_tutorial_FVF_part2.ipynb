{
 "cells": [
  {
   "cell_type": "markdown",
   "metadata": {
    "id": "o5-DyyuLZW0q"
   },
   "source": [
    "# Tutorial 2: **Notebook** - *FVF*\n",
    "\n",
    "> 🚧 **Under Construction**\n",
    "\n",
    "**By \n",
    "gLayout Team**\n",
    "\n",
    "__Content creators:__ Subham Pal, Saptarshi Ghosh\n",
    "\n",
    "__Content reviewers:__ Mehedi Saligne"
   ]
  },
  {
   "cell_type": "markdown",
   "metadata": {
    "id": "gPX1Jg60CobD"
   },
   "source": [
    "___\n",
    "# Tutorial Objectives\n",
    "\n",
    "This notebook is a tutorial on-\n",
    "\n",
    "- **LVS (Layout Versus Schematic):**  \n",
    "  You will learn how to compare your physical layout with the original schematic to ensure they are functionally identical. This process helps catch connectivity or device mismatches before fabrication.\n",
    "\n",
    "- **Extraction and Simulation:**  \n",
    "  The tutorial will guide you through extracting parasitic elements from your layout, such as capacitance and resistance, to create a more accurate circuit model. You will then simulate the extracted netlist to analyze and verify the real-world performance of your design."
   ]
  },
  {
   "cell_type": "markdown",
   "metadata": {
    "id": "MTe7mB0vawUk"
   },
   "source": [
    "## **Target** **Block** : **Flipped Voltage Follwer Cell**\n",
    "\n",
    "A **voltage follower**—also known as a unity-gain buffer or buffer amplifier—is an electronic circuit in which the output voltage precisely follows the input voltage, providing a voltage gain of one. Typically implemented using an operational amplifier (op-amp) with negative feedback, the voltage follower features extremely high input impedance and very low output impedance. This configuration allows it to isolate circuit stages, preventing the loading of the input source and enabling the circuit to drive low-impedance loads without signal degradation.\n",
    "\n",
    "The voltage follower is fundamental in analog circuit design, ensuring signal fidelity and stability across a wide range of electronic applications. The **Flipped Voltage Follower (FVF)** is an advanced analog circuit topology derived from the conventional source follower, optimized for low-voltage, low-power applications. Unlike the standard voltage follower, the FVF employs a feedback structure that forces the input transistor to operate at a constant drain current, independent of variations in input voltage or load current. This is achieved using shunt negative feedback and ancillary biasing circuitry, resulting in improved linearity and significantly reduced output impedance compared to traditional designs.\n",
    "\n",
    "**Key Features:**\n",
    "- **Low Output Impedance:** The FVF provides much lower output impedance than conventional voltage followers, making it highly effective as a voltage buffer in demanding analog applications[9][11].\n",
    "- **High Linearity:** Maintains a consistent voltage transfer characteristic across a wide range of operating conditions[5][9].\n",
    "- **Large Output Current Capability:** Able to source or sink larger currents, supporting class-AB operation and driving heavier loads[4][7][10].\n",
    "- **Low-Voltage Operation:** Well-suited for modern low-supply-voltage and low-power integrated circuit designs[4][5][7][10].\n",
    "- **Applications:** Commonly found in output stages, current mirrors, voltage buffers, gain-boosting circuits, OTAs, filters, and VCOs[4][5][7][10][11].\n",
    "\n",
    "The FVF is a versatile and robust building block in analog and mixed-signal circuit design, offering superior performance for buffering, level shifting, and driving loads in advanced CMOS technologies.\n",
    "\n",
    "(a) Conventional Voltage follower (common Drain); (b) Flipped voltage follower (FVF).\n",
    "\n",
    "![](_images/FVF.png)\n",
    "\n",
    "```bibtex\n",
    "Domala, N., Sasikala, G. Low power flipped voltage follower current mirror with improved input output impedances. Sādhanā 46, 142 (2021). https://doi.org/10.1007/s12046-021-01665-6\n",
    "```"
   ]
  },
  {
   "cell_type": "markdown",
   "metadata": {
    "id": "8DhSwHbRged9"
   },
   "source": [
    "## **NetList generation and LVS**\n",
    "let's go through the step by step procedure to generate LVS and DRC clean layout of a FVF cell."
   ]
  },
  {
   "cell_type": "code",
   "execution_count": 1,
   "metadata": {},
   "outputs": [],
   "source": [
    "import os\n",
    "import subprocess\n",
    "\n",
    "# Run a shell, source .bashrc, then printenv\n",
    "cmd = 'bash -c \"source ~/.bashrc && printenv\"'\n",
    "result = subprocess.run(cmd, shell=True, text=True, capture_output=True)\n",
    "env_vars = {}\n",
    "for line in result.stdout.splitlines():\n",
    "    if '=' in line:\n",
    "        key, value = line.split('=', 1)\n",
    "        env_vars[key] = value\n",
    "\n",
    "# Now, update os.environ with these\n",
    "os.environ.update(env_vars)"
   ]
  },
  {
   "cell_type": "code",
   "execution_count": 2,
   "metadata": {},
   "outputs": [],
   "source": [
    "from glayout import MappedPDK, sky130 , gf180\n",
    "#from gdsfactory.cell import cell\n",
    "from gdsfactory import Component\n",
    "from gdsfactory.components import text_freetype, rectangle"
   ]
  },
  {
   "cell_type": "code",
   "execution_count": 3,
   "metadata": {},
   "outputs": [],
   "source": [
    "from glayout import nmos, pmos\n",
    "from glayout import via_stack\n",
    "from glayout import rename_ports_by_orientation\n",
    "from glayout import tapring"
   ]
  },
  {
   "cell_type": "code",
   "execution_count": 4,
   "metadata": {},
   "outputs": [],
   "source": [
    "from glayout.util.comp_utils import evaluate_bbox, prec_center, prec_ref_center, align_comp_to_port\n",
    "from glayout.util.port_utils import add_ports_perimeter,print_ports\n",
    "from glayout.util.snap_to_grid import component_snap_to_grid\n",
    "from glayout.spice.netlist import Netlist"
   ]
  },
  {
   "cell_type": "code",
   "execution_count": 5,
   "metadata": {},
   "outputs": [],
   "source": [
    "from glayout.routing.straight_route import straight_route\n",
    "from glayout.routing.c_route import c_route\n",
    "from glayout.routing.L_route import L_route"
   ]
  },
  {
   "cell_type": "markdown",
   "metadata": {
    "id": "48098fczyWqC"
   },
   "source": [
    "FVF has two fets as shown in the schematic. We call M1 as input fet and M2 as feedback fet. Lets define arguments for the FETs"
   ]
  },
  {
   "cell_type": "markdown",
   "metadata": {},
   "source": [
    "### 2. Basic Usage of the GLayout Framework\n",
    "Each generator is a Python function that takes a `MappedPDK` object as a parameter and generates a DRC clean layout for the given PDK. The generator may also accept a set of optional layout parameters such as the width or length of a MOSFET. All parameters are normal Python function arguments.\n",
    "\n",
    "The generator returns a `GDSFactory.Component` object that can be written to a `.gds` file and viewed using a tool such as Klayout. In this example, the `gdstk` library is used to convert the `.gds` file to an SVG image for viewing.\n",
    "\n",
    "The pre-PEX SPICE netlist for the component can be viewed using `component.info['netlist'].generate_netlist()`.\n",
    "\n",
    "In the following example the FET generator `glayout.primitives.fet` is imported and run with both the [Skywater 130](https://skywater-pdk.readthedocs.io/en/main/) and [GF180](https://gf180mcu-pdk.readthedocs.io/en/latest/) PDKs."
   ]
  },
  {
   "cell_type": "markdown",
   "metadata": {},
   "source": [
    "#### Demonstration of Basic Layout / Netlist Generation in SKY130 & GF180"
   ]
  },
  {
   "cell_type": "code",
   "execution_count": 6,
   "metadata": {},
   "outputs": [
    {
     "data": {
      "application/vnd.jupyter.widget-view+json": {
       "model_id": "89d50aad229448169c89c9006181f10e",
       "version_major": 2,
       "version_minor": 0
      },
      "text/plain": [
       "GridspecLayout(children=(Output(layout=Layout(grid_area='widget001')), Output(layout=Layout(grid_area='widget0…"
      ]
     },
     "metadata": {},
     "output_type": "display_data"
    }
   ],
   "source": [
    "from glayout import nmos,sky130,gf180\n",
    "\n",
    "import gdstk\n",
    "import svgutils.transform as sg\n",
    "import IPython.display\n",
    "from IPython.display import clear_output\n",
    "import ipywidgets as widgets\n",
    "\n",
    "# Used to display the results in a grid (notebook only)\n",
    "left = widgets.Output()\n",
    "leftSPICE = widgets.Output()\n",
    "right = widgets.Output()\n",
    "rightSPICE = widgets.Output()\n",
    "hide = widgets.Output()\n",
    "\n",
    "grid = widgets.GridspecLayout(1, 4)\n",
    "grid[0, 0] = left\n",
    "grid[0, 1] = leftSPICE\n",
    "grid[0, 2] = right\n",
    "grid[0, 3] = rightSPICE\n",
    "display(grid)\n",
    "\n",
    "def display_gds(gds_file, scale = 3):\n",
    "  # Generate an SVG image\n",
    "  top_level_cell = gdstk.read_gds(gds_file).top_level()[0]\n",
    "  top_level_cell.write_svg('../../out.svg')\n",
    "\n",
    "  # Scale the image for displaying\n",
    "  fig = sg.fromfile('../../out.svg')\n",
    "  fig.set_size((str(float(fig.width) * scale), str(float(fig.height) * scale)))\n",
    "  fig.save('../../out.svg')\n",
    "\n",
    "  # Display the image\n",
    "  IPython.display.display(IPython.display.SVG('../../out.svg'))\n",
    "\n",
    "def display_component(component, scale = 3):\n",
    "  # Save to a GDS file\n",
    "  with hide:\n",
    "    component.write_gds(\"../../out.gds\")\n",
    "\n",
    "  display_gds('../../out.gds', scale)\n",
    "\n",
    "with hide:\n",
    "  # Generate the sky130 component\n",
    "  component_sky130 = nmos(pdk = sky130, fingers=5)\n",
    "  # Generate the gf180 component\n",
    "  component_gf180 = nmos(pdk = gf180, fingers=5)\n",
    "\n",
    "# Display the components' GDS and SPICE netlists\n",
    "with left:\n",
    "  print('Skywater 130nm N-MOSFET (fingers = 5)')\n",
    "  display_component(component_sky130, scale=2)\n",
    "with leftSPICE:\n",
    "  print('Skywater 130nm SPICE Netlist')\n",
    "  print(component_sky130.info['netlist'].generate_netlist())\n",
    "\n",
    "with right:\n",
    "  print('GF 180nm N-MOSFET (fingers = 5)')\n",
    "  display_component(component_gf180, scale=2)\n",
    "with rightSPICE:\n",
    "  print('GF 180nm SPICE Netlist')\n",
    "  print(component_gf180.info['netlist'].generate_netlist())"
   ]
  },
  {
   "cell_type": "code",
   "execution_count": 7,
   "metadata": {},
   "outputs": [],
   "source": [
    "import sys\n",
    "import os\n",
    "sys.path.append(os.path.abspath(\"../../FVF\"))\n",
    "\n",
    "from my_FVF import flipped_voltage_follower,add_fvf_labels\n"
   ]
  },
  {
   "cell_type": "code",
   "execution_count": 8,
   "metadata": {
    "scrolled": true
   },
   "outputs": [
    {
     "name": "stderr",
     "output_type": "stream",
     "text": [
      "/headless/conda-env/miniconda3/envs/GLdev/lib/python3.10/site-packages/glayout/pdk/mappedpdk.py:487: UserWarning: Unnamed cells, 4 in 'FVF'\n",
      "  layout.write_gds(gds_path)\n",
      "\u001b[32m2025-06-26 09:51:36.562\u001b[0m | \u001b[1mINFO    \u001b[0m | \u001b[36mgdsfactory.component\u001b[0m:\u001b[36m_write_library\u001b[0m:\u001b[36m1851\u001b[0m - \u001b[1mWrote to '/tmp/tmpim_3asj6/FVF.gds'\u001b[0m\n"
     ]
    },
    {
     "name": "stdout",
     "output_type": "stream",
     "text": [
      "using default pdk_root: /usr/bin/miniconda3/share/pdk/\n",
      "Defaulting to stale magic_commands.tcl\n",
      "\n",
      "Magic 8.3 revision 528 - Compiled on Wed Jun 18 09:45:25 PM CEST 2025.\n",
      "Starting magic under Tcl interpreter\n",
      "Using the terminal as the console.\n",
      "WARNING: RLIMIT_NOFILE is above 1024 and Tcl_Version<9 this may cause runtime issues [rlim_cur=1048576]\n",
      "Using NULL graphics device.\n",
      "Processing system .magicrc file\n",
      "Sourcing design .magicrc for technology gf180mcuD ...\n",
      "10 Magic internal units = 1 Lambda\n",
      "Input style import: scaleFactor=10, multiplier=2\n",
      "The following types are not handled by extraction and will be treated as non-electrical types:\n",
      "    obsactive mvobsactive filldiff fillpoly m1hole obsm1 fillm1 obsv1 m2hole obsm2 fillm2 obsv2 m3hole obsm3 fillm3 m4hole obsm4 fillm4 m5hole obsm5 fillm5 glass fillblock lvstext obscomment \n",
      "Scaled tech values by 10 / 1 to match internal grid scaling\n",
      "Loading gf180mcuD Device Generator Menu ...\n",
      "Loading \"/tmp/tmpim_3asj6/magic_commands.tcl\" from command line.\n",
      "Warning: Calma reading is not undoable!  I hope that's OK.\n",
      "Library written using GDS-II Release 6.0\n",
      "Library name: library\n",
      "Reading \"FVF\".\n",
      "Reading \"Unnamed_21733f4a\".\n",
      "Reading \"compass_65197a3d\".\n",
      "Reading \"Unnamed_3e3a8697\".\n",
      "Reading \"compass_65197a3d$1\".\n",
      "Reading \"Unnamed_f2c74a10\".\n",
      "Reading \"compass_65197a3d$2\".\n",
      "Reading \"Unnamed_2726b059\".\n",
      "Reading \"compass_65197a3d$3\".\n",
      "Reading \"Unnamed_f2c74a10\".\n",
      "Reading \"compass_65197a3d$1\".\n",
      "Reading \"compass_65197a3d\".\n",
      "Reading \"Unnamed_21733f4a\".\n",
      "Reading \"Unnamed_3e3a8697\".\n",
      "Reading \"compass_65197a3d$2\".\n",
      "Reading \"compass_65197a3d$3\".\n",
      "Reading \"Unnamed_2726b059\".\n",
      "[INFO]: Loading FVF\n",
      "\n",
      "Loading DRC CIF style.\n",
      "[INFO]: DONE with /tmp/tmpim_3asj6/FVF.rpt\n",
      "\n",
      "Using technology \"gf180mcuD\", version 1.0.525-0-gf2e289d\n",
      "\n",
      "Soft errors: \n",
      "Error while reading cell \"Unnamed_21733f4a\" (byte position 79900): Rewinding input.  Cells may have been instanced before they were defined.  Consider using \"gds ordering on\".\n",
      "Error while reading cell \"Unnamed_3e3a8697\" (byte position 79782): Rewinding input.  Cells may have been instanced before they were defined.  Consider using \"gds ordering on\".\n",
      "Error while reading cell \"Unnamed_2726b059\" (byte position 80412): Rewinding input.  Cells may have been instanced before they were defined.  Consider using \"gds ordering on\".\n",
      "\n",
      "FVF count: \n",
      "\n",
      "----------------------------------------\n",
      "\n",
      "Metal2 spacing < 0.28um (M2.2a)\n",
      "\n",
      "----------------------------------------\n",
      "\n",
      " -0.820um 1.495um -0.320um 1.525um\n",
      "\n",
      " -0.320um 1.495um -0.040um 1.525um\n",
      "\n",
      " 0.040um 1.495um 0.820um 1.525um\n",
      "\n",
      " 10.120um 1.495um 10.620um 1.525um\n",
      "\n",
      " 10.980um 1.495um 11.760um 1.525um\n",
      "\n",
      " 0.820um 1.495um 1.100um 1.525um\n",
      "\n",
      " 10.620um 1.495um 10.900um 1.525um\n",
      "\n",
      "----------------------------------------\n",
      "\n",
      "\n",
      "\n"
     ]
    }
   ],
   "source": [
    "comp = flipped_voltage_follower(gf180, device_type='nmos')\n",
    "# comp.pprint_ports()\n",
    "comp = add_fvf_labels(comp, gf180)\n",
    "comp.name = \"FVF\"\n",
    "#comp.write_gds('out_FVF.gds')\n",
    "#comp.show()\n",
    "#print(\"...Running DRC...\")\n",
    "drc_result = gf180.drc_magic(comp, \"FVF\")"
   ]
  },
  {
   "cell_type": "code",
   "execution_count": null,
   "metadata": {},
   "outputs": [],
   "source": [
    "# This is a different way of creating netlist compared to what we already have in the repo.\n",
    "# Instead of giving the low level components as input, you append them to the top_level.info in component function.\n",
    "# Then you can access them as showed here.\n",
    "\n",
    "def fvf_netlist(fvf_in: Component) -> Netlist:\n",
    "\n",
    "    fet_1 = fvf_in.info[\"fet_1\"]  \n",
    "    fet_2 = fvf_in.info[\"fet_2\"]\n",
    "    \n",
    "    netlist = Netlist(circuit_name='FLIPPED_VOLTAGE_FOLLOWER', nodes=['VIN', 'VBULK', 'VOUT', 'Ib'])\n",
    "    \n",
    "    netlist.connect_netlist(fet_1.info['netlist'], [('D', 'Ib'), ('G', 'VIN'), ('S', 'VOUT'), ('B', 'VBULK')])\n",
    "    netlist.connect_netlist(fet_2.info['netlist'], [('D', 'VOUT'), ('G', 'Ib'), ('S', 'VBULK'), ('B', 'VBULK')])\n",
    "    \n",
    "    return netlist\n",
    "\n",
    "\n",
    "my_fvf = flipped_voltage_follower(gf180)\n",
    "my_fvf.info['netlist'] = fvf_netlist(my_fvf)\n",
    "print(my_fvf.info['netlist'].generate_netlist())"
   ]
  },
  {
   "cell_type": "markdown",
   "metadata": {
    "id": "Bbxs3HPMCob0"
   },
   "source": [
    "### Run LVS\n",
    "Design Rule Check ensures that the physical layout of an integrated circuit adheres to the manufacturing constraints defined by the foundry, such as minimum spacing, width, and enclosure rules. `Magic` is the tool we use for DRC here."
   ]
  },
  {
   "cell_type": "code",
   "execution_count": null,
   "metadata": {},
   "outputs": [],
   "source": []
  },
  {
   "cell_type": "markdown",
   "metadata": {},
   "source": [
    "## Extraction and Post-Pex Simulation"
   ]
  },
  {
   "cell_type": "code",
   "execution_count": null,
   "metadata": {},
   "outputs": [],
   "source": []
  }
 ],
 "metadata": {
  "colab": {
   "provenance": []
  },
  "kernelspec": {
   "display_name": "GLdev",
   "language": "python",
   "name": "gldev"
  },
  "language_info": {
   "codemirror_mode": {
    "name": "ipython",
    "version": 3
   },
   "file_extension": ".py",
   "mimetype": "text/x-python",
   "name": "python",
   "nbconvert_exporter": "python",
   "pygments_lexer": "ipython3",
   "version": "3.10.18"
  }
 },
 "nbformat": 4,
 "nbformat_minor": 0
}
