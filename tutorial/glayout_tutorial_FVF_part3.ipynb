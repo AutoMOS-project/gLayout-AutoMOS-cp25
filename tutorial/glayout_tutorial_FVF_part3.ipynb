{
 "cells": [
  {
   "cell_type": "markdown",
   "metadata": {
    "id": "o5-DyyuLZW0q"
   },
   "source": [
    "# Tutorial 2: **Notebook** - *FVF*\n",
    "\n",
    "> 🚧 **Under Construction**\n",
    "\n",
    "**By \n",
    "gLayout Team**\n",
    "\n",
    "__Content creators:__ Subham Pal, Saptarshi Ghosh\n",
    "\n",
    "__Content reviewers:__ Mehedi Saligne"
   ]
  },
  {
   "cell_type": "markdown",
   "metadata": {
    "id": "gPX1Jg60CobD"
   },
   "source": [
    "___\n",
    "# Tutorial Objectives\n",
    "\n",
    "This notebook is a tutorial on-\n",
    "\n",
    "- **LVS (Layout Versus Schematic):**  \n",
    "  You will learn how to compare your physical layout with the original schematic to ensure they are functionally identical. This process helps catch connectivity or device mismatches before fabrication.\n",
    "\n",
    "- **Extraction and Simulation:**  \n",
    "  The tutorial will guide you through extracting parasitic elements from your layout, such as capacitance and resistance, to create a more accurate circuit model. You will then simulate the extracted netlist to analyze and verify the real-world performance of your design."
   ]
  },
  {
   "cell_type": "markdown",
   "metadata": {
    "id": "MTe7mB0vawUk"
   },
   "source": [
    "## **Target** **Block** : **Flipped Voltage Follwer Cell**\n",
    "\n",
    "A **voltage follower**—also known as a unity-gain buffer or buffer amplifier—is an electronic circuit in which the output voltage precisely follows the input voltage, providing a voltage gain of one. Typically implemented using an operational amplifier (op-amp) with negative feedback, the voltage follower features extremely high input impedance and very low output impedance. This configuration allows it to isolate circuit stages, preventing the loading of the input source and enabling the circuit to drive low-impedance loads without signal degradation.\n",
    "\n",
    "The voltage follower is fundamental in analog circuit design, ensuring signal fidelity and stability across a wide range of electronic applications. The **Flipped Voltage Follower (FVF)** is an advanced analog circuit topology derived from the conventional source follower, optimized for low-voltage, low-power applications. Unlike the standard voltage follower, the FVF employs a feedback structure that forces the input transistor to operate at a constant drain current, independent of variations in input voltage or load current. This is achieved using shunt negative feedback and ancillary biasing circuitry, resulting in improved linearity and significantly reduced output impedance compared to traditional designs.\n",
    "\n",
    "**Key Features:**\n",
    "- **Low Output Impedance:** The FVF provides much lower output impedance than conventional voltage followers, making it highly effective as a voltage buffer in demanding analog applications[9][11].\n",
    "- **High Linearity:** Maintains a consistent voltage transfer characteristic across a wide range of operating conditions[5][9].\n",
    "- **Large Output Current Capability:** Able to source or sink larger currents, supporting class-AB operation and driving heavier loads[4][7][10].\n",
    "- **Low-Voltage Operation:** Well-suited for modern low-supply-voltage and low-power integrated circuit designs[4][5][7][10].\n",
    "- **Applications:** Commonly found in output stages, current mirrors, voltage buffers, gain-boosting circuits, OTAs, filters, and VCOs[4][5][7][10][11].\n",
    "\n",
    "The FVF is a versatile and robust building block in analog and mixed-signal circuit design, offering superior performance for buffering, level shifting, and driving loads in advanced CMOS technologies.\n",
    "\n",
    "(a) Conventional Voltage follower (common Drain); (b) Flipped voltage follower (FVF).\n",
    "\n",
    "![](_images/FVF.png)\n",
    "\n",
    "```bibtex\n",
    "Domala, N., Sasikala, G. Low power flipped voltage follower current mirror with improved input output impedances. Sādhanā 46, 142 (2021). https://doi.org/10.1007/s12046-021-01665-6\n",
    "```"
   ]
  },
  {
   "cell_type": "markdown",
   "metadata": {
    "id": "8DhSwHbRged9"
   },
   "source": [
    "## **NetList generation and LVS**\n",
    "let's go through the step by step procedure to generate LVS and DRC clean layout of a FVF cell."
   ]
  },
  {
   "cell_type": "code",
   "execution_count": 1,
   "metadata": {},
   "outputs": [],
   "source": [
    "import os\n",
    "import subprocess\n",
    "\n",
    "# Run a shell, source .bashrc, then printenv\n",
    "cmd = 'bash -c \"source ~/.bashrc && printenv\"'\n",
    "result = subprocess.run(cmd, shell=True, text=True, capture_output=True)\n",
    "env_vars = {}\n",
    "for line in result.stdout.splitlines():\n",
    "    if '=' in line:\n",
    "        key, value = line.split('=', 1)\n",
    "        env_vars[key] = value\n",
    "\n",
    "# Now, update os.environ with these\n",
    "os.environ.update(env_vars)"
   ]
  },
  {
   "cell_type": "code",
   "execution_count": 2,
   "metadata": {},
   "outputs": [],
   "source": [
    "from glayout import MappedPDK, sky130 , gf180\n",
    "#from gdsfactory.cell import cell\n",
    "from gdsfactory import Component\n",
    "from gdsfactory.components import text_freetype, rectangle"
   ]
  },
  {
   "cell_type": "code",
   "execution_count": 3,
   "metadata": {},
   "outputs": [],
   "source": [
    "from glayout import nmos, pmos\n",
    "from glayout import via_stack\n",
    "from glayout import rename_ports_by_orientation\n",
    "from glayout import tapring"
   ]
  },
  {
   "cell_type": "code",
   "execution_count": 4,
   "metadata": {},
   "outputs": [],
   "source": [
    "from glayout.util.comp_utils import evaluate_bbox, prec_center, prec_ref_center, align_comp_to_port\n",
    "from glayout.util.port_utils import add_ports_perimeter,print_ports\n",
    "from glayout.util.snap_to_grid import component_snap_to_grid\n",
    "from glayout.spice.netlist import Netlist"
   ]
  },
  {
   "cell_type": "code",
   "execution_count": 5,
   "metadata": {},
   "outputs": [],
   "source": [
    "from glayout.routing.straight_route import straight_route\n",
    "from glayout.routing.c_route import c_route\n",
    "from glayout.routing.L_route import L_route"
   ]
  },
  {
   "cell_type": "markdown",
   "metadata": {
    "id": "48098fczyWqC"
   },
   "source": [
    "FVF has two fets as shown in the schematic. We call M1 as input fet and M2 as feedback fet. Lets define arguments for the FETs"
   ]
  },
  {
   "cell_type": "markdown",
   "metadata": {},
   "source": [
    "### 2. Basic Usage of the GLayout Framework\n",
    "Each generator is a Python function that takes a `MappedPDK` object as a parameter and generates a DRC clean layout for the given PDK. The generator may also accept a set of optional layout parameters such as the width or length of a MOSFET. All parameters are normal Python function arguments.\n",
    "\n",
    "The generator returns a `GDSFactory.Component` object that can be written to a `.gds` file and viewed using a tool such as Klayout. In this example, the `gdstk` library is used to convert the `.gds` file to an SVG image for viewing.\n",
    "\n",
    "The pre-PEX SPICE netlist for the component can be viewed using `component.info['netlist'].generate_netlist()`.\n",
    "\n",
    "In the following example the FET generator `glayout.primitives.fet` is imported and run with both the [Skywater 130](https://skywater-pdk.readthedocs.io/en/main/) and [GF180](https://gf180mcu-pdk.readthedocs.io/en/latest/) PDKs."
   ]
  },
  {
   "cell_type": "markdown",
   "metadata": {},
   "source": [
    "#### Demonstration of Basic Layout / Netlist Generation in SKY130 & GF180"
   ]
  },
  {
   "cell_type": "code",
   "execution_count": 6,
   "metadata": {},
   "outputs": [
    {
     "data": {
      "application/vnd.jupyter.widget-view+json": {
       "model_id": "0dc90fba3c154f09b15be8454ce41b9c",
       "version_major": 2,
       "version_minor": 0
      },
      "text/plain": [
       "GridspecLayout(children=(Output(layout=Layout(grid_area='widget001')), Output(layout=Layout(grid_area='widget0…"
      ]
     },
     "metadata": {},
     "output_type": "display_data"
    }
   ],
   "source": [
    "import gdstk\n",
    "import svgutils.transform as sg\n",
    "import IPython.display\n",
    "from IPython.display import clear_output\n",
    "import ipywidgets as widgets\n",
    "\n",
    "# Used to display the results in a grid (notebook only)\n",
    "left = widgets.Output()\n",
    "leftSPICE = widgets.Output()\n",
    "right = widgets.Output()\n",
    "rightSPICE = widgets.Output()\n",
    "hide = widgets.Output()\n",
    "\n",
    "grid = widgets.GridspecLayout(1, 4)\n",
    "grid[0, 0] = left\n",
    "grid[0, 1] = leftSPICE\n",
    "grid[0, 2] = right\n",
    "grid[0, 3] = rightSPICE\n",
    "display(grid)\n",
    "\n",
    "def display_gds(gds_file, scale = 3):\n",
    "  # Generate an SVG image\n",
    "  top_level_cell = gdstk.read_gds(gds_file).top_level()[0]\n",
    "  top_level_cell.write_svg('../../out.svg')\n",
    "\n",
    "  # Scale the image for displaying\n",
    "  fig = sg.fromfile('../../out.svg')\n",
    "  fig.set_size((str(float(fig.width) * scale), str(float(fig.height) * scale)))\n",
    "  fig.save('../../out.svg')\n",
    "\n",
    "  # Display the image\n",
    "  IPython.display.display(IPython.display.SVG('../../out.svg'))\n",
    "\n",
    "def display_component(component, scale = 3):\n",
    "  # Save to a GDS file\n",
    "  with hide:\n",
    "    component.write_gds(\"../../out.gds\")\n",
    "\n",
    "  display_gds('../../out.gds', scale)\n",
    "\n",
    "with hide:\n",
    "  # Generate the sky130 component\n",
    "  component_sky130 = nmos(pdk = sky130, fingers=5)\n",
    "  # Generate the gf180 component\n",
    "  component_gf180 = nmos(pdk = gf180, fingers=5,with_dnwell=False)\n",
    "\n",
    "# Display the components' GDS and SPICE netlists\n",
    "with left:\n",
    "  print('Skywater 130nm N-MOSFET (fingers = 5)')\n",
    "  display_component(component_sky130, scale=2)\n",
    "with leftSPICE:\n",
    "  print('Skywater 130nm SPICE Netlist')\n",
    "  print(component_sky130.info['netlist'].generate_netlist())\n",
    "\n",
    "with right:\n",
    "  print('GF 180nm N-MOSFET (fingers = 5)')\n",
    "  display_component(component_gf180, scale=2)\n",
    "with rightSPICE:\n",
    "  print('GF 180nm SPICE Netlist')\n",
    "  print(component_gf180.info['netlist'].generate_netlist())"
   ]
  },
  {
   "cell_type": "markdown",
   "metadata": {},
   "source": [
    "### This part is just to import the file you created from Tutorial 1"
   ]
  },
  {
   "cell_type": "code",
   "execution_count": 7,
   "metadata": {},
   "outputs": [],
   "source": [
    "import sys\n",
    "import os\n",
    "from pathlib import Path\n",
    "sys.path.append(os.path.abspath(\"../../FVF\"))\n",
    "\n",
    "from my_FVF import flipped_voltage_follower,add_fvf_labels"
   ]
  },
  {
   "cell_type": "markdown",
   "metadata": {},
   "source": [
    "### Creating A Netlist"
   ]
  },
  {
   "cell_type": "code",
   "execution_count": 8,
   "metadata": {},
   "outputs": [
    {
     "name": "stderr",
     "output_type": "stream",
     "text": [
      "\u001b[32m2025-07-03 13:34:16.315\u001b[0m | \u001b[1mINFO    \u001b[0m | \u001b[36mgdsfactory.klive\u001b[0m:\u001b[36mshow\u001b[0m:\u001b[36m55\u001b[0m - \u001b[1mMessage from klive: {\"version\": \"0.3.3\", \"klayout_version\": \"0.30.2\", \"type\": \"reload\", \"file\": \"/tmp/gdsfactory/FVF.gds\"}\u001b[0m\n"
     ]
    },
    {
     "name": "stdout",
     "output_type": "stream",
     "text": [
      ".subckt NMOS D G S B l=2 w=4 m=1 dm=1 \n",
      "XMAIN   D G S B nfet_03v3 l={l} w={w} m={m}\n",
      "XDUMMY1 B B B B nfet_03v3 l={l} w={w} m={dm}\n",
      "XDUMMY2 B B B B nfet_03v3 l={l} w={w} m={dm}\n",
      ".ends NMOS\n",
      "\n",
      ".subckt NMOS_1 D G S B l=1 w=2.75 m=1 dm=1 \n",
      "XMAIN   D G S B nfet_03v3 l={l} w={w} m={m}\n",
      "XDUMMY1 B B B B nfet_03v3 l={l} w={w} m={dm}\n",
      "XDUMMY2 B B B B nfet_03v3 l={l} w={w} m={dm}\n",
      ".ends NMOS_1\n",
      "\n",
      ".subckt FLIPPED_VOLTAGE_FOLLOWER VIN VBULK VOUT Ib\n",
      "X0 Ib VIN VOUT VBULK NMOS l=2 w=4 m=0.5 dm=1\n",
      "X1 VOUT Ib VBULK VBULK NMOS_1 l=1 w=2.75 m=0.5 dm=1\n",
      ".ends FLIPPED_VOLTAGE_FOLLOWER\n"
     ]
    }
   ],
   "source": [
    "# This is a different way of creating netlist compared to what we already have in the repo.\n",
    "# Instead of giving the low level components as input, you append them to the top_level.info in component function.\n",
    "# Then you can access them as showed here.\n",
    "\n",
    "def fvf_netlist(fvf_in: Component) -> Netlist:\n",
    "\n",
    "    fet_1 = fvf_in.info[\"fet_1\"]  \n",
    "    fet_2 = fvf_in.info[\"fet_2\"]\n",
    "    \n",
    "    netlist = Netlist(circuit_name='FLIPPED_VOLTAGE_FOLLOWER', nodes=['VIN', 'VBULK', 'VOUT', 'Ib'])\n",
    "    \n",
    "    netlist.connect_netlist(fet_1.info['netlist'], [('D', 'Ib'), ('G', 'VIN'), ('S', 'VOUT'), ('B', 'VBULK')])\n",
    "    netlist.connect_netlist(fet_2.info['netlist'], [('D', 'VOUT'), ('G', 'Ib'), ('S', 'VBULK'), ('B', 'VBULK')])\n",
    "    \n",
    "    fvf_in.info['netlist'] = netlist\n",
    "    \n",
    "    return fvf_in\n",
    "\n",
    "my_fvf = fvf_netlist(flipped_voltage_follower(gf180, width=(4,2.75), length=(2,1)))\n",
    "my_fvf  = add_fvf_labels(my_fvf, gf180)\n",
    "my_fvf .name = \"FVF\"\n",
    "#my_fvf.write_gds('out_FVF.gds')\n",
    "my_fvf.show()\n",
    "print(my_fvf.info['netlist'].generate_netlist())"
   ]
  },
  {
   "cell_type": "markdown",
   "metadata": {},
   "source": [
    "### Run LVS\n",
    " LVS(Layout Versus Schematic) is an automated process that compares the extracted netlist of the physical layout (how the transistors and wires are actually drawn on the silicon) against the original, intended netlist from the schematic (the circuit's functional design). Its primary goal is to ensure that the layout precisely matches the schematic, catching any discrepancies like shorts, opens, missing components, or incorrect connections. `Netgen` is the tool we use for LVS here."
   ]
  },
  {
   "cell_type": "code",
   "execution_count": 9,
   "metadata": {},
   "outputs": [
    {
     "name": "stdout",
     "output_type": "stream",
     "text": [
      "/foss/designs/all_last2/FVF\n",
      "/foss/designs/all_last2/FVF\n"
     ]
    }
   ],
   "source": [
    "# This code block is inserted to delete previously stored intermediate files, if any\n",
    "%cd ../../FVF/\n",
    "!pwd\n",
    "import glob\n",
    "extensions = [\n",
    "            \"*.res.ext\",\n",
    "            \"*.lvs.rpt\",\n",
    "            \"*_lvs.rpt\",\n",
    "            \"*.nodes\",\n",
    "            \"*.sim\",\n",
    "            \"*.pex.spice\",\n",
    "            \"*_pex.spice\"\n",
    "            ]\n",
    "files_to_delete = []\n",
    "for ext in extensions:\n",
    "    files_to_delete.extend(glob.glob(ext))\n",
    "    \n",
    "# Delete the files\n",
    "for file_path in files_to_delete:\n",
    "    try:\n",
    "        os.remove(file_path)\n",
    "        print(f\"Deleted: {file_path}\")\n",
    "    except OSError as e:\n",
    "        print(f\"Error deleting {file_path}: {e}\")"
   ]
  },
  {
   "cell_type": "code",
   "execution_count": 10,
   "metadata": {
    "scrolled": true
   },
   "outputs": [
    {
     "name": "stderr",
     "output_type": "stream",
     "text": [
      "\u001b[32m2025-07-03 13:34:20.584\u001b[0m | \u001b[1mINFO    \u001b[0m | \u001b[36mgdsfactory.component\u001b[0m:\u001b[36m_write_library\u001b[0m:\u001b[36m1851\u001b[0m - \u001b[1mWrote to 'fvf.gds'\u001b[0m\n",
      "\u001b[32m2025-07-03 13:34:20.594\u001b[0m | \u001b[1mINFO    \u001b[0m | \u001b[36mgdsfactory.klive\u001b[0m:\u001b[36mshow\u001b[0m:\u001b[36m55\u001b[0m - \u001b[1mMessage from klive: {\"version\": \"0.3.3\", \"klayout_version\": \"0.30.2\", \"type\": \"reload\", \"file\": \"/tmp/gdsfactory/fvf.gds\"}\u001b[0m\n",
      "\u001b[32m2025-07-03 13:34:20.600\u001b[0m | \u001b[1mINFO    \u001b[0m | \u001b[36mgdsfactory.component\u001b[0m:\u001b[36m_write_library\u001b[0m:\u001b[36m1851\u001b[0m - \u001b[1mWrote to '/tmp/tmpxbjq75xn/fvf.gds'\u001b[0m\n"
     ]
    },
    {
     "name": "stdout",
     "output_type": "stream",
     "text": [
      "using user specified pdk_root, will search for required files in the specified directory\n",
      "\n",
      "Magic 8.3 revision 528 - Compiled on Wed Jun 18 09:45:25 PM CEST 2025.\n",
      "Starting magic under Tcl interpreter\n",
      "Using the terminal as the console.\n",
      "WARNING: RLIMIT_NOFILE is above 1024 and Tcl_Version<9 this may cause runtime issues [rlim_cur=1048576]\n",
      "Using NULL graphics device.\n",
      "Processing system .magicrc file\n",
      "Sourcing design .magicrc for technology gf180mcuD ...\n",
      "10 Magic internal units = 1 Lambda\n",
      "Input style import: scaleFactor=10, multiplier=2\n",
      "The following types are not handled by extraction and will be treated as non-electrical types:\n",
      "    obsactive mvobsactive filldiff fillpoly m1hole obsm1 fillm1 obsv1 m2hole obsm2 fillm2 obsv2 m3hole obsm3 fillm3 m4hole obsm4 fillm4 m5hole obsm5 fillm5 glass fillblock lvstext obscomment \n",
      "Scaled tech values by 10 / 1 to match internal grid scaling\n",
      "Loading gf180mcuD Device Generator Menu ...\n",
      "Using technology \"gf180mcuD\", version 1.0.525-0-gf2e289d\n",
      "Warning: Calma reading is not undoable!  I hope that's OK.\n",
      "Library written using GDS-II Release 6.0\n",
      "Library name: library\n",
      "Reading \"fvf\".\n",
      "Extracting fvf into fvf.ext:\n",
      "fvf: 4 warnings\n",
      "exttospice finished.\n",
      "Extracting fvf into fvf.ext:\n",
      "fvf: 4 warnings\n",
      "exttosim finished.\n",
      "Extracting fvf into fvf.ext:\n",
      "fvf: 4 warnings\n",
      "exttospice finished.\n",
      "\n",
      "Running netgen command: netgen -batch lvs \"/tmp/tmpxbjq75xn/fvf_lvsmag.spice fvf\" \"/tmp/tmpxbjq75xn/fvf.spice fvf\" /foss/pdks/gf180mcuD/libs.tech/netgen/gf180mcuD_setup.tcl /tmp/tmpxbjq75xn/fvf_lvs.rpt\n",
      "Netgen 1.5.295 compiled on Wed Jun 18 09:36:23 PM CEST 2025\n",
      "Warning: netgen command 'format' use fully-qualified name '::netgen::format'\n",
      "Warning: netgen command 'global' use fully-qualified name '::netgen::global'\n",
      "Reading netlist file /tmp/tmpxbjq75xn/fvf_lvsmag.spice\n",
      "Call to undefined subcircuit nfet_03v3\n",
      "Creating placeholder cell definition.\n",
      "Reading netlist file /tmp/tmpxbjq75xn/fvf.spice\n",
      "Call to undefined subcircuit pmos_3p3\n",
      "Creating placeholder cell definition.\n",
      "Call to undefined subcircuit nmos_3p3\n",
      "Creating placeholder cell definition.\n",
      "Call to undefined subcircuit nfet_03v3\n",
      "Creating placeholder cell definition.\n",
      "\n",
      "Reading setup file /foss/pdks/gf180mcuD/libs.tech/netgen/gf180mcuD_setup.tcl\n",
      "\n",
      "No property area found for device c\n",
      "Model nfet_03v3 pin 1 == 3\n",
      "No property par1 found for device nfet_03v3\n",
      "No property NRD found for device nfet_03v3\n",
      "No property NRS found for device nfet_03v3\n",
      "No property par found for device nfet_03v3\n",
      "No property sa found for device nfet_03v3\n",
      "No property sb found for device nfet_03v3\n",
      "No property sd found for device nfet_03v3\n",
      "No property par found for device nfet_03v3\n",
      "No property dtemp found for device nfet_03v3\n",
      "No property nf found for device nfet_03v3\n",
      "Model nfet_03v3 pin 1 == 3\n",
      "No property par1 found for device nfet_03v3\n",
      "No property NRD found for device nfet_03v3\n",
      "No property NRS found for device nfet_03v3\n",
      "No property par found for device nfet_03v3\n",
      "No property sa found for device nfet_03v3\n",
      "No property sb found for device nfet_03v3\n",
      "No property sd found for device nfet_03v3\n",
      "No property par found for device nfet_03v3\n",
      "No property dtemp found for device nfet_03v3\n",
      "No property nf found for device nfet_03v3\n",
      "No property as found for device nfet_03v3\n",
      "No property ad found for device nfet_03v3\n",
      "No property ps found for device nfet_03v3\n",
      "No property pd found for device nfet_03v3\n",
      "Comparison output logged to file /tmp/tmpxbjq75xn/fvf_lvs.rpt\n",
      "Logging to file \"/tmp/tmpxbjq75xn/fvf_lvs.rpt\" enabled\n",
      "Circuit nfet_03v3 contains no devices.\n",
      "\n",
      "Contents of circuit 1:  Circuit: 'fvf'\n",
      "Circuit fvf contains 6 device instances.\n",
      "  Class: nfet_03v3             instances:   6\n",
      "Circuit contains 4 nets.\n",
      "Contents of circuit 2:  Circuit: 'fvf'\n",
      "Circuit fvf contains 6 device instances.\n",
      "  Class: nfet_03v3             instances:   6\n",
      "Circuit contains 4 nets.\n",
      "\n",
      "Circuit was modified by parallel/series device merging.\n",
      "New circuit summary:\n",
      "\n",
      "Contents of circuit 1:  Circuit: 'fvf'\n",
      "Circuit fvf contains 3 device instances.\n",
      "  Class: nfet_03v3             instances:   3\n",
      "Circuit contains 4 nets.\n",
      "Contents of circuit 2:  Circuit: 'fvf'\n",
      "Circuit fvf contains 3 device instances.\n",
      "  Class: nfet_03v3             instances:   3\n",
      "Circuit contains 4 nets.\n",
      "\n",
      "Circuit 1 contains 3 devices, Circuit 2 contains 3 devices.\n",
      "Circuit 1 contains 4 nets,    Circuit 2 contains 4 nets.\n",
      "\n",
      "No more changes can be made to series/parallel networks.\n",
      "\n",
      "Final result: \n",
      "Circuits match uniquely.\n",
      ".\n",
      "Logging to file \"/tmp/tmpxbjq75xn/fvf_lvs.rpt\" disabled\n",
      "LVS Done.\n",
      "\n",
      "\n",
      "Circuit 1 cell nfet_03v3 and Circuit 2 cell nfet_03v3 are black boxes.\n",
      "Warning: Equate pins:  cell nfet_03v3 is a placeholder, treated as a black box.\n",
      "Warning: Equate pins:  cell nfet_03v3 is a placeholder, treated as a black box.\n",
      "\n",
      "Subcircuit pins:\n",
      "Circuit 1: nfet_03v3                       |Circuit 2: nfet_03v3                       \n",
      "-------------------------------------------|-------------------------------------------\n",
      "1                                          |1                                          \n",
      "2                                          |2                                          \n",
      "3                                          |3                                          \n",
      "4                                          |4                                          \n",
      "---------------------------------------------------------------------------------------\n",
      "Cell pin lists are equivalent.\n",
      "Device classes nfet_03v3 and nfet_03v3 are equivalent.\n",
      "Flattening unmatched subcell NMOS in circuit fvf (1)(1 instance)\n",
      "Flattening unmatched subcell NMOS_1 in circuit fvf (1)(1 instance)\n",
      "\n",
      "Class fvf (0):  Merged 3 parallel devices.\n",
      "Class fvf (1):  Merged 3 parallel devices.\n",
      "Subcircuit summary:\n",
      "Circuit 1: fvf                             |Circuit 2: fvf                             \n",
      "-------------------------------------------|-------------------------------------------\n",
      "nfet_03v3 (6->3)                           |nfet_03v3 (6->3)                           \n",
      "Number of devices: 3                       |Number of devices: 3                       \n",
      "Number of nets: 4                          |Number of nets: 4                          \n",
      "---------------------------------------------------------------------------------------\n",
      "Netlists match uniquely.\n",
      "\n",
      "Subcircuit pins:\n",
      "Circuit 1: fvf                             |Circuit 2: fvf                             \n",
      "-------------------------------------------|-------------------------------------------\n",
      "VIN                                        |VIN                                        \n",
      "Ib                                         |Ib                                         \n",
      "VOUT                                       |VOUT                                       \n",
      "VBULK                                      |VBULK                                      \n",
      "---------------------------------------------------------------------------------------\n",
      "Cell pin lists are equivalent.\n",
      "Device classes fvf and fvf are equivalent.\n",
      "\n",
      "Final result: Circuits match uniquely.\n",
      ".\n",
      "\n"
     ]
    }
   ],
   "source": [
    "fvf = fvf_netlist(add_fvf_labels(flipped_voltage_follower(gf180,width=(4,2.75),length=(2,1)),gf180))\n",
    "fvf.name = \"fvf\"\n",
    "fvf_gds = fvf.write_gds(\"fvf.gds\")\n",
    "#display_gds(fvf_gds)\n",
    "fvf.show()\n",
    "netgen_lvs_result = gf180.lvs_netgen(fvf, fvf.name)"
   ]
  },
  {
   "cell_type": "markdown",
   "metadata": {},
   "source": [
    "## Extraction and Post-Pex Simulation"
   ]
  },
  {
   "cell_type": "code",
   "execution_count": 11,
   "metadata": {},
   "outputs": [
    {
     "name": "stdout",
     "output_type": "stream",
     "text": [
      "Making sure your environment varriables are still correctly set\n",
      " I am using PDK in:  /foss/pdks \n",
      " PDK name:  gf180mcuD \n",
      " The PDK files are at:  /foss/pdks/gf180mcuD\n"
     ]
    }
   ],
   "source": [
    "#At first, we need to properly set PDKPATH and PDK_ROOT \n",
    "\n",
    "print(\"Making sure your environment varriables are still correctly set\")\n",
    "print(\" I am using PDK in: \",os.environ['PDK_ROOT'],\"\\n PDK name: \",os.environ['PDK'],\"\\n The PDK files are at: \",os.environ['PDKPATH'])"
   ]
  },
  {
   "cell_type": "markdown",
   "metadata": {},
   "source": [
    "Sometimes, When you donot excecute the Jupyter Cells Sqencally, It might cause errors. In that case, you can set it right by re-excecuting the top cell. No needed if already set."
   ]
  },
  {
   "cell_type": "code",
   "execution_count": 12,
   "metadata": {},
   "outputs": [],
   "source": [
    "# import os\n",
    "# import subprocess\n",
    "\n",
    "# # Run a shell, source .bashrc, then printenv\n",
    "# cmd = 'bash -c \"source ~/.bashrc && printenv\"'\n",
    "# result = subprocess.run(cmd, shell=True, text=True, capture_output=True)\n",
    "# env_vars = {}\n",
    "# for line in result.stdout.splitlines():\n",
    "#     if '=' in line:\n",
    "#         key, value = line.split('=', 1)\n",
    "#         env_vars[key] = value\n",
    "\n",
    "# # Now, update os.environ with these\n",
    "# os.environ.update(env_vars)"
   ]
  },
  {
   "cell_type": "code",
   "execution_count": 13,
   "metadata": {},
   "outputs": [],
   "source": [
    "# import os\n",
    "# os.environ[\"PATH\"] = os.environ[\"TOOLS\"]+'/bin:'+ os.environ[\"PATH\"]\n",
    "# # To \"unset\" (delete) PDKPATH if it exists\n",
    "# if 'PDKPATH' in os.environ:\n",
    "#     del os.environ['PDKPATH']\n",
    "#     print(\"PDKPATH has been unset.\")\n",
    "# else:\n",
    "#     print(\"PDKPATH was not set.\")\n",
    "\n",
    "# # To \"unset\" (delete) PDK_ROOT if it exists\n",
    "# if 'PDK_ROOT' in os.environ:\n",
    "#     del os.environ['PDK_ROOT']\n",
    "#     print(\"PDK_ROOT has been unset.\")\n",
    "# else:\n",
    "#     print(\"PDK_ROOT was not set.\")\n",
    "\n",
    "# # --- Now, set the correct one ---\n",
    "# correct_pdk_path = \"/foss/pdks/sky130A\" # <-- Replace with the ACTUAL path to your Sky130A PDK root\n",
    "# os.environ['PDKPATH'] = correct_pdk_path\n",
    "# print(f\"PDKPATH set to: {os.environ['PDKPATH']}\")\n",
    "# %env PDK = \"sky130A\"\n",
    "# !echo $PDK_ROOT\n",
    "# !echo $PDK\n",
    "# !echo $PDKPATH"
   ]
  },
  {
   "cell_type": "code",
   "execution_count": 14,
   "metadata": {},
   "outputs": [
    {
     "data": {
      "text/plain": [
       "PosixPath('/foss/pdks/gf180mcuD/libs.tech/magic/gf180mcuD.magicrc')"
      ]
     },
     "execution_count": 14,
     "metadata": {},
     "output_type": "execute_result"
    }
   ],
   "source": [
    "magic_file = Path(os.environ['PDKPATH']) / \"libs.tech\" / \"magic\" / f\"{os.environ['PDK']}.magicrc\"\n",
    "magic_file"
   ]
  },
  {
   "cell_type": "markdown",
   "metadata": {},
   "source": [
    "### Parasitic Extraction\n",
    "Two files are needed for parasitic extraction. One is foundry provided sky130A.magicrc. Other one is our bash script run_pex.sh which will call the `Magic` terminal and automate the task"
   ]
  },
  {
   "cell_type": "code",
   "execution_count": null,
   "metadata": {},
   "outputs": [],
   "source": [
    "with tempfile.TemporaryDirectory() as temp_dir:\n",
    "            temp_dir_path = Path(temp_dir).resolve()\n",
    "            self.pdk_files['temp_dir'] = temp_dir_path\n",
    "            print(\"using user specified pdk_root, will search for required files in the specified directory\")\n",
    "            self.pdk_files['pdk_root'] = pdk_root \n",
    "            \n",
    "            lvsmag_path = temp_dir_path / f\"{design_name}_lvsmag.spice\"\n",
    "            pex_path = temp_dir_path / f\"{design_name}_pex.spice\"\n",
    "            sim_path = temp_dir_path / f\"{design_name}_sim.spice\"\n",
    "            spice_path = temp_dir_path / f\"{design_name}.spice\"\n",
    "            netlist_from_comp = temp_dir_path / f\"{design_name}.cdl\"\n",
    "            gds_path = temp_dir_path / f\"{design_name}.gds\"\n",
    "            report_path = temp_dir_path / f\"{design_name}_lvs.rpt\"\n",
    "\n",
    "            layout.write_gds(str(gds_path))\n",
    "\n",
    "    "
   ]
  },
  {
   "cell_type": "code",
   "execution_count": null,
   "metadata": {},
   "outputs": [],
   "source": [
    "magic_script_content = f\"\"\"#!/bin/bash\n",
    "\n",
    "# Usage: ./run_pex.sh layout.gds layout_cell_name\n",
    "\n",
    "GDS_FILE=$1\n",
    "LAYOUT_CELL=$2\n",
    "\n",
    "magic -rcfile ./sky130A.magicrc -noconsole -dnull << EOF\n",
    "gds read $GDS_FILE\n",
    "flatten $LAYOUT_CELL\n",
    "load $LAYOUT_CELL\n",
    "select top cell\n",
    "extract do local\n",
    "extract all\n",
    "ext2sim labels on\n",
    "ext2sim\n",
    "extresist tolerance 10\n",
    "extresist\n",
    "ext2spice lvs\n",
    "ext2spice cthresh 0\n",
    "ext2spice extresist on\n",
    "ext2spice -o ${LAYOUT_CELL}_pex.spice\n",
    "exit\n",
    "EOF\n",
    "\"\"\""
   ]
  },
  {
   "cell_type": "code",
   "execution_count": null,
   "metadata": {},
   "outputs": [],
   "source": [
    "run_pex_string = \"\"\"#!/bin/bash\n",
    "\n",
    "# Usage: ./run_pex.sh layout.gds layout_cell_name\n",
    "\n",
    "GDS_FILE=$1\n",
    "LAYOUT_CELL=$2\n",
    "\n",
    "magic -rcfile ./sky130A.magicrc -noconsole -dnull << EOF\n",
    "gds read $GDS_FILE\n",
    "flatten $LAYOUT_CELL\n",
    "load $LAYOUT_CELL\n",
    "select top cell\n",
    "extract do local\n",
    "extract all\n",
    "ext2sim labels on\n",
    "ext2sim\n",
    "extresist tolerance 10\n",
    "extresist\n",
    "ext2spice lvs\n",
    "ext2spice cthresh 0\n",
    "ext2spice extresist on\n",
    "ext2spice -o ${LAYOUT_CELL}_pex.spice\n",
    "exit\n",
    "EOF\n",
    "\"\"\"\n",
    "\n",
    "sky130A_magicrc_string = \"\"\"puts stdout \"Sourcing design .magicrc for technology sky130A ...\"\n",
    "\n",
    "# Put grid on 0.005 pitch.  This is important, as some commands don't\n",
    "# rescale the grid automatically (such as lef read?).\n",
    "\n",
    "set scalefac [tech lambda]\n",
    "if {[lindex $scalefac 1] < 2} {\n",
    "    scalegrid 1 2\n",
    "}\n",
    "\n",
    "# drc off\n",
    "drc euclidean on\n",
    "# Change this to a fixed number for repeatable behavior with GDS writes\n",
    "# e.g., \"random seed 12345\"\n",
    "catch {random seed}\n",
    "\n",
    "# Turn off the scale option on ext2spice or else it conflicts with the\n",
    "# scale in the model files.\n",
    "ext2spice scale off\n",
    "\n",
    "# Allow override of PDK path from environment variable PDKPATH\n",
    "if {[catch {set PDKPATH $env(PDKPATH)}]} {\n",
    "    set PDKPATH $env(PDK_ROOT)/sky130A\n",
    "}\n",
    "\n",
    "# loading technology\n",
    "tech load $PDKPATH/libs.tech/magic/sky130A.tech\n",
    "\n",
    "# load device generator\n",
    "source $PDKPATH/libs.tech/magic/sky130A.tcl\n",
    "\n",
    "# load bind keys (optional)\n",
    "# source $PDKPATH/libs.tech/magic/sky130A-BindKeys\n",
    "\n",
    "# set units to lambda grid\n",
    "snap lambda\n",
    "\n",
    "# set sky130 standard power, ground, and substrate names\n",
    "set VDD VPWR\n",
    "set GND VGND\n",
    "set SUB VSUBS\n",
    "\n",
    "# Allow override of type of magic library views used, \"mag\" or \"maglef\",\n",
    "# from environment variable MAGTYPE\n",
    "\n",
    "if {[catch {set MAGTYPE $env(MAGTYPE)}]} {\n",
    "   set MAGTYPE mag\n",
    "}\n",
    "\n",
    "# add path to reference cells\n",
    "if {[file isdir ${PDKPATH}/libs.ref/${MAGTYPE}]} {\n",
    "    addpath ${PDKPATH}/libs.ref/${MAGTYPE}/sky130_fd_pr\n",
    "    addpath ${PDKPATH}/libs.ref/${MAGTYPE}/sky130_fd_io\n",
    "    addpath ${PDKPATH}/libs.ref/${MAGTYPE}/sky130_fd_sc_hd\n",
    "    addpath ${PDKPATH}/libs.ref/${MAGTYPE}/sky130_fd_sc_hdll\n",
    "    addpath ${PDKPATH}/libs.ref/${MAGTYPE}/sky130_fd_sc_hs\n",
    "    addpath ${PDKPATH}/libs.ref/${MAGTYPE}/sky130_fd_sc_hvl\n",
    "    addpath ${PDKPATH}/libs.ref/${MAGTYPE}/sky130_fd_sc_lp\n",
    "    addpath ${PDKPATH}/libs.ref/${MAGTYPE}/sky130_fd_sc_ls\n",
    "    addpath ${PDKPATH}/libs.ref/${MAGTYPE}/sky130_fd_sc_ms\n",
    "    addpath ${PDKPATH}/libs.ref/${MAGTYPE}/sky130_osu_sc\n",
    "    addpath ${PDKPATH}/libs.ref/${MAGTYPE}/sky130_osu_sc_t18\n",
    "    addpath ${PDKPATH}/libs.ref/${MAGTYPE}/sky130_ml_xx_hd\n",
    "    addpath ${PDKPATH}/libs.ref/${MAGTYPE}/sky130_sram_macros\n",
    "} else {\n",
    "    addpath ${PDKPATH}/libs.ref/sky130_fd_pr/${MAGTYPE}\n",
    "    addpath ${PDKPATH}/libs.ref/sky130_fd_io/${MAGTYPE}\n",
    "    addpath ${PDKPATH}/libs.ref/sky130_fd_sc_hd/${MAGTYPE}\n",
    "    addpath ${PDKPATH}/libs.ref/sky130_fd_sc_hdll/${MAGTYPE}\n",
    "    addpath ${PDKPATH}/libs.ref/sky130_fd_sc_hs/${MAGTYPE}\n",
    "    addpath ${PDKPATH}/libs.ref/sky130_fd_sc_hvl/${MAGTYPE}\n",
    "    addpath ${PDKPATH}/libs.ref/sky130_fd_sc_lp/${MAGTYPE}\n",
    "    addpath ${PDKPATH}/libs.ref/sky130_fd_sc_ls/${MAGTYPE}\n",
    "    addpath ${PDKPATH}/libs.ref/sky130_fd_sc_ms/${MAGTYPE}\n",
    "    addpath ${PDKPATH}/libs.ref/sky130_osu_sc/${MAGTYPE}\n",
    "    addpath ${PDKPATH}/libs.ref/sky130_osu_sc_t18/${MAGTYPE}\n",
    "    addpath ${PDKPATH}/libs.ref/sky130_ml_xx_hd/${MAGTYPE}\n",
    "    addpath ${PDKPATH}/libs.ref/sky130_sram_macros/${MAGTYPE}\n",
    "}\n",
    "\n",
    "# add path to GDS cells\n",
    "\n",
    "# add path to IP from catalog.  This procedure defined in the PDK script.\n",
    "catch {magic::query_mylib_ip}\n",
    "# add path to local IP from user design space.  Defined in the PDK script.\n",
    "catch {magic::query_my_projects}\n",
    "\"\"\"\n",
    "\n",
    "\n",
    "directory = \"./\"\n",
    "\n",
    "# Save files\n",
    "file_name_1 = \"run_pex.sh\"\n",
    "file_name_2 = \"sky130A.magicrc\"\n",
    "# Delete the file if it already exists\n",
    "if os.path.exists(file_name_1):\n",
    "    os.remove(file_name_1)\n",
    "    print(f\"Existing file '{file_name_1}' deleted.\")\n",
    "\n",
    "# Create a new empty file\n",
    "with open(file_name_1, 'x') as f:\n",
    "    pass  # This creates an empty file or truncates an existing one\n",
    "print(f\"Empty file '{file_name_1}' created.\")\n",
    "\n",
    "if os.path.exists(file_name_2):\n",
    "    os.remove(file_name_2)\n",
    "    print(f\"Existing file '{file_name_2}' deleted.\")\n",
    "\n",
    "with open(file_name_2, 'w') as f:\n",
    "    pass  # This creates an empty file or truncates an existing one\n",
    "print(f\"Empty file '{file_name_2}' created.\")\n",
    "\n",
    "\n",
    "with open(directory + \"run_pex.sh\", \"w\") as file:\n",
    "    file.write(run_pex_string)\n",
    "    print(f\"Wrote to '{file_name_1}'.\")\n",
    "with open(directory + \"sky130A.magicrc\", \"w\") as file:\n",
    "    file.write(sky130A_magicrc_string)\n",
    "    print(f\"Wrote to '{file_name_2}'.\")\n",
    "pex_spice_path = \"fvf_pex.spice\"\n",
    "if os.path.exists(pex_spice_path):\n",
    "    os.remove(pex_spice_path)\n",
    "\n",
    "#run the bash script\n",
    "!chmod +x ./run_pex.sh\n",
    "proc=subprocess.run([\"./run_pex.sh\", \"./fvf.gds\", fvf.name], check=True, capture_output=True, text=True)\n",
    "for line in proc.stdout.splitlines():\n",
    "    print(line)"
   ]
  },
  {
   "cell_type": "markdown",
   "metadata": {},
   "source": [
    "### Post-PEX simulation\n",
    "We do `.op` analysis and `.ac` anaysis on our fvf block."
   ]
  },
  {
   "cell_type": "markdown",
   "metadata": {},
   "source": [
    "#### `.op` analysis - find out the DC voltage at output node"
   ]
  },
  {
   "cell_type": "code",
   "execution_count": null,
   "metadata": {},
   "outputs": [],
   "source": [
    "fvf_op_tb_string=\"\"\"* FVF Output Impedance Testbench\n",
    ".temp 25\n",
    ".param vcm = 1.3\n",
    ".param ib = 10u\n",
    "\n",
    "************* Power Supplies *************\n",
    "Vsupply VDD GND 1.8\n",
    "V0 vb GND 0\n",
    "\n",
    "************* Input Bias (DC bias at IN) *************\n",
    "VIN vin GND {vcm}  ; Mid-supply bias (renamed from 'IN' to 'VIN' to avoid conflict if 'IN' is a global node or subckt port)\n",
    "Ibias VDD ib {ib}\n",
    "\n",
    "************* DUT: FVF Subcircuit *************\n",
    "**Import SKY130 lib\n",
    ".lib /foss/pdks/sky130A/libs.tech/ngspice/sky130.lib.spice tt\n",
    "\n",
    "** Import fvf subcircuit\n",
    ".include fvf_pex.spice\n",
    "* Adjust node order if needed based on your fvf_pex.spice subcircuit definition.\n",
    "* Assuming fvf subcircuit takes (vb, output_node, input_node, ibias_node)\n",
    "XDUT vb vin FVF_OUT ib fvf\n",
    "\n",
    "************* Analysis *************\n",
    "* Operating point (for sanity check)\n",
    ".op ; Uncomment this to run DC operating point analysis and check node voltages\n",
    "\n",
    ".GLOBAL VDD \n",
    ".GLOBAL GND\n",
    "\n",
    ".end\n",
    "\"\"\"\n",
    "file_name = \"fvf_op_tb.sp\"\n",
    "# Delete the file if it already exists\n",
    "if os.path.exists(file_name):\n",
    "    os.remove(file_name)\n",
    "    print(f\"Existing file '{file_name}' deleted.\")\n",
    "\n",
    "# Create a new empty file\n",
    "with open(file_name, 'x') as f:\n",
    "    pass  # This creates an empty file or truncates an existing one\n",
    "print(f\"Empty file '{file_name}' created.\")\n",
    "with open(directory + \"fvf_op_tb.sp\", \"w\") as file:\n",
    "    file.write(fvf_op_tb_string)"
   ]
  },
  {
   "cell_type": "code",
   "execution_count": null,
   "metadata": {
    "scrolled": true
   },
   "outputs": [],
   "source": [
    "# run ngspice in batch mode\n",
    "!ngspice -b fvf_op_tb.sp"
   ]
  },
  {
   "cell_type": "markdown",
   "metadata": {},
   "source": [
    "If you did not do any changes in testbench, the voltage at output node FVF_OUT should be around 0.45V\n",
    "\n",
    "#### `.ac` analysis - find out the output impedance"
   ]
  },
  {
   "cell_type": "code",
   "execution_count": null,
   "metadata": {},
   "outputs": [],
   "source": [
    "fvf_zo_tb_string=\"\"\"* FVF Output Impedance Testbench\n",
    ".temp 25\n",
    ".param vcm = 1.3\n",
    ".param ib = 10u\n",
    "\n",
    "************* Power Supplies *************\n",
    "Vsupply VDD GND 1.8\n",
    "V0 vb GND 0\n",
    "\n",
    "************* Input Bias (DC bias at IN) *************\n",
    "VIN vin GND {vcm}  ; Mid-supply bias (renamed from 'IN' to 'VIN' to avoid conflict if 'IN' is a global node or subckt port)\n",
    "Ibias VDD ib {ib}\n",
    "\n",
    "************* AC Test Source for Output Impedance Measurement *************\n",
    "*Insert an AC current source at the output\n",
    "\n",
    "I_TEST GND FVF_OUT AC 1u ; AC 1 magnitude, 0 DC offset, in series with FVF output\n",
    "\n",
    "************* DUT: FVF Subcircuit *************\n",
    "**Import SKY130 lib\n",
    ".lib /foss/pdks/sky130A/libs.tech/ngspice/sky130.lib.spice tt\n",
    "\n",
    "** Import fvf subcircuit\n",
    ".include fvf_pex.spice\n",
    "* Adjust node order if needed based on your fvf_pex.spice subcircuit definition.\n",
    "* Assuming fvf subcircuit takes (vb, output_node, input_node, ibias_node)\n",
    "XDUT vb vin FVF_OUT ib fvf\n",
    "\n",
    "************* AC analysis **************\n",
    "* AC sweep to compute output impedance magnitude and phase\n",
    ".ac dec 10 10 10G\n",
    "************* Control Output *************\n",
    "* Calculate Output impedance: Zout = V(FVF_OUT) / 1u\n",
    ".plot AC MAG(V(FVF_OUT))/1e-6 ; Plots the magnitude of the calculated output impedance\n",
    "\n",
    ".GLOBAL VDD \n",
    ".GLOBAL GND\n",
    "\n",
    ".end\n",
    "\"\"\"\n",
    "file_name = \"fvf_zo_tb.sp\"\n",
    "# Delete the file if it already exists\n",
    "if os.path.exists(file_name):\n",
    "    os.remove(file_name)\n",
    "    print(f\"Existing file '{file_name}' deleted.\")\n",
    "\n",
    "# Create a new empty file\n",
    "with open(file_name, 'x') as f:\n",
    "    pass  # This creates an empty file or truncates an existing one\n",
    "print(f\"Empty file '{file_name}' created.\")\n",
    "with open(directory + \"fvf_zo_tb.sp\", \"w\") as file:\n",
    "    file.write(fvf_zo_tb_string)"
   ]
  },
  {
   "cell_type": "code",
   "execution_count": null,
   "metadata": {
    "scrolled": true
   },
   "outputs": [],
   "source": [
    "# run ngspice in batch mode\n",
    "!ngspice -b fvf_zo_tb.sp"
   ]
  },
  {
   "cell_type": "code",
   "execution_count": null,
   "metadata": {},
   "outputs": [],
   "source": []
  }
 ],
 "metadata": {
  "colab": {
   "provenance": []
  },
  "kernelspec": {
   "display_name": "GLdev",
   "language": "python",
   "name": "gldev"
  },
  "language_info": {
   "codemirror_mode": {
    "name": "ipython",
    "version": 3
   },
   "file_extension": ".py",
   "mimetype": "text/x-python",
   "name": "python",
   "nbconvert_exporter": "python",
   "pygments_lexer": "ipython3",
   "version": "3.10.18"
  }
 },
 "nbformat": 4,
 "nbformat_minor": 0
}
